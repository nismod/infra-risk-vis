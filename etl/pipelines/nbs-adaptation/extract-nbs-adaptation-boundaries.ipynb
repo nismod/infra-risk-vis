{
 "cells": [
  {
   "cell_type": "code",
   "execution_count": 2,
   "metadata": {},
   "outputs": [],
   "source": [
    "import subprocess\n",
    "from pathlib import Path\n",
    "\n",
    "import geopandas\n",
    "import shapely"
   ]
  },
  {
   "cell_type": "code",
   "execution_count": 3,
   "metadata": {},
   "outputs": [],
   "source": [
    "etl_path = Path('.').absolute().parent.parent\n",
    "raw_dir = etl_path / 'raw_data'\n",
    "boundary_dir = etl_path / 'raw_data' / 'boundaries'"
   ]
  },
  {
   "cell_type": "code",
   "execution_count": 3,
   "metadata": {},
   "outputs": [
    {
     "name": "stdout",
     "output_type": "stream",
     "text": [
      "Processing hybas_lev12_v1c_with_gadm_codes\n",
      "Read\n",
      "Bounds\n",
      "Wrote poly\n"
     ]
    },
    {
     "name": "stderr",
     "output_type": "stream",
     "text": [
      "/tmp/ipykernel_3079473/1301827610.py:23: UserWarning: Geometry is in a geographic CRS. Results from 'centroid' are likely incorrect. Use 'GeoSeries.to_crs()' to re-project geometries to a projected CRS before this operation.\n",
      "\n",
      "  df.geometry = df.geometry.centroid\n"
     ]
    },
    {
     "name": "stdout",
     "output_type": "stream",
     "text": [
      "Centroids\n",
      "Wrote points\n"
     ]
    }
   ],
   "source": [
    "layers = [\n",
    "    # ('admin-level-0', ['GID_0', 'NAME_0', 'geometry']),\n",
    "    # ('admin-level-1', ['GID_0', 'NAME_0', 'GID_1', 'NAME_1', 'geometry']),\n",
    "    # ('admin-level-2', ['GID_0', 'NAME_0', 'GID_1', 'NAME_1', 'GID_2', 'NAME_2', 'geometry']),\n",
    "    ('hybas_lev12_v1c_with_gadm_codes', ['HYBAS_ID', 'GID_0', 'NAME_0', 'GID_1', 'NAME_1',  'GID_2', 'NAME_2', 'geometry']),\n",
    "]\n",
    "\n",
    "for layer, cols in layers:\n",
    "    print(\"Processing\", layer)\n",
    "    df = geopandas.read_parquet(boundary_dir / f\"{layer}.geoparquet\")\n",
    "    if layer == 'hybas_lev12_v1c_with_gadm_codes':\n",
    "        df.reset_index(inplace=True)\n",
    "    df = df[cols].copy()\n",
    "    print(\"Read\")\n",
    "    bounds = df.bounds # minx  miny  maxx  maxy\n",
    "    bbox = shapely.box(bounds.minx, bounds.miny, bounds.maxx, bounds.maxy)\n",
    "    df['bbox_wkt'] = geopandas.GeoSeries(bbox).to_wkt()\n",
    "    print(\"Bounds\")\n",
    "\n",
    "    # df.to_file(boundary_dir / f\"{layer}.geojsonld\", driver='GeoJSONSeq', engine=\"pyogrio\")\n",
    "    print(\"Wrote poly\")\n",
    "\n",
    "    df.geometry = df.geometry.centroid\n",
    "    print(\"Centroids\")\n",
    "    df.to_file(boundary_dir / f\"{layer}_points.geojsonld\", driver='GeoJSONSeq', engine=\"pyogrio\")\n",
    "    print(\"Wrote points\")\n"
   ]
  },
  {
   "cell_type": "code",
   "execution_count": null,
   "metadata": {},
   "outputs": [
    {
     "name": "stderr",
     "output_type": "stream",
     "text": [
      "For layer 0, using name \"adm0_points\"\n",
      "256 features, 9608 bytes of geometry and attributes, 35940 bytes of string pool, 0 bytes of vertices, 0 bytes of nodes\n",
      "Choosing a maxzoom of -z0 for features typically 2622777 feet (799423 meters) apart, and at least 524812 feet (159963 meters) apart\n",
      "  99.8%  0/0/0  \n",
      "For layer 0, using name \"adm1_points\"\n",
      "3610 features, 165508 bytes of geometry and attributes, 504377 bytes of string pool, 0 bytes of vertices, 0 bytes of nodes\n",
      "Choosing a maxzoom of -z1 for features typically 357836 feet (109069 meters) apart, and at least 48955 feet (14922 meters) apart\n",
      "  88.0%  1/1/0  \n",
      "For layer 0, using name \"adm2_points\"\n",
      "45962 features, 2716120 bytes of geometry and attributes, 6575061 bytes of string pool, 0 bytes of vertices, 0 bytes of nodes\n",
      "Choosing a maxzoom of -z2 for features typically 94255 feet (28729 meters) apart, and at least 20900 feet (6371 meters) apart\n",
      "tile 1/1/0 size is 536750 (probably really 536750) with detail 12, >500000    \n",
      "Going to try keeping the sparsest 74.52% of the features to make it fit\n",
      "tile 2/2/1 size is 894092 (probably really 894092) with detail 12, >500000    \n",
      "Going to try keeping the sparsest 44.74% of the features to make it fit\n",
      "  95.9%  2/2/1  \n",
      "For layer 0, using name \"hybas_points\"\n",
      "1034083 features, 71369088 bytes of geometry and attributes, 131216304 bytes of string pool, 0 bytes of vertices, 0 bytes of nodes\n",
      "Choosing a maxzoom of -z2 for features typically 43657 feet (13307 meters) apart, and at least 19144 feet (5835 meters) apart\n",
      "tile 0/0/0 size is 6182311 (probably really 6182311) with detail 12, >500000    \n",
      "Going to try keeping the sparsest 6.47% of the features to make it fit\n",
      "tile 1/0/1 size is 1751170 (probably really 1751170) with detail 12, >500000    \n",
      "Going to try keeping the sparsest 22.84% of the features to make it fit\n",
      "tile 1/1/1 size is 2316805 (probably really 2316805) with detail 12, >500000    \n",
      "Going to try keeping the sparsest 17.27% of the features to make it fit\n",
      "tile 1/0/0 size is 3944833 (probably really 3944833) with detail 12, >500000    \n",
      "Going to try keeping the sparsest 10.14% of the features to make it fit\n",
      "tile 1/1/0 has 200001 (estimated 217947) features, >200000    \n",
      "Going to try keeping the sparsest 73.41% of the features to make it fit\n",
      "tile 1/1/0 size is 5796729 (probably really 5796729) with detail 12, >500000    \n",
      "Going to try keeping the sparsest 5.07% of the features to make it fit\n",
      "tile 1/1/0 size is 504637 (probably really 504637) with detail 12, >500000    \n",
      "Going to try keeping the sparsest 4.02% of the features to make it fit\n",
      "tile 2/0/0 size is 508205 (probably really 508205) with detail 12, >500000    \n",
      "Going to try keeping the sparsest 78.71% of the features to make it fit\n",
      "tile 2/1/0 size is 693822 (probably really 693822) with detail 12, >500000    \n",
      "Going to try keeping the sparsest 57.65% of the features to make it fit\n",
      "tile 2/3/0 size is 744707 (probably really 744707) with detail 12, >500000    \n",
      "Going to try keeping the sparsest 53.71% of the features to make it fit\n",
      "tile 2/2/1 has 200001 (estimated 351525) features, >200000    \n",
      "Going to try keeping the sparsest 45.52% of the features to make it fit\n",
      "tile 2/3/2 size is 2630979 (probably really 2630979) with detail 12, >500000    \n",
      "Going to try keeping the sparsest 15.20% of the features to make it fit\n",
      "tile 2/2/2 size is 2696882 (probably really 2696882) with detail 12, >500000    \n",
      "Going to try keeping the sparsest 14.83% of the features to make it fit\n",
      "tile 2/0/1 size is 3851019 (probably really 3851019) with detail 12, >500000    \n",
      "Going to try keeping the sparsest 10.39% of the features to make it fit\n",
      "tile 2/1/2 size is 4026070 (probably really 4026070) with detail 12, >500000    \n",
      "Going to try keeping the sparsest 9.94% of the features to make it fit\n",
      "tile 2/1/1 size is 4642316 (probably really 4642316) with detail 12, >500000    \n",
      "Going to try keeping the sparsest 8.62% of the features to make it fit\n",
      "tile 2/3/1 size is 5598073 (probably really 5598073) with detail 12, >500000    \n",
      "Going to try keeping the sparsest 7.15% of the features to make it fit\n",
      "tile 2/2/1 size is 5719449 (probably really 5719449) with detail 12, >500000    \n",
      "Going to try keeping the sparsest 3.18% of the features to make it fit\n",
      "  99.9%  2/2/1  \n"
     ]
    }
   ],
   "source": [
    "layers = [\n",
    "    ('admin-level-0', 'adm0'),\n",
    "    ('admin-level-1', 'adm1'),\n",
    "    ('admin-level-2', 'adm2'),\n",
    "    ('hybas_lev12_v1c_with_gadm_codes', 'hybas'),\n",
    "]\n",
    "\n",
    "for geojson, mbtiles in layers:\n",
    "    for suffix in [\"\", \"_points\"]:\n",
    "        subprocess.run([\n",
    "            \"ln\", \"-s\", f\"{boundary_dir}/{geojson}.geojsonld\", f\"{boundary_dir}/{mbtiles}{suffix}.json\"\n",
    "        ])\n",
    "        subprocess.run([\n",
    "            \"tippecanoe\",\n",
    "            \"--read-parallel\",\n",
    "            \"--force\",\n",
    "            \"--drop-densest-as-needed\",\n",
    "            \"-n\",\n",
    "            f\"{mbtiles}{suffix}\",\n",
    "            \"-zg\",\n",
    "            \"-o\",\n",
    "            f\"{etl_path}/../tileserver/vector/data/{mbtiles}{suffix}.mbtiles\",\n",
    "            f\"{boundary_dir}/{mbtiles}{suffix}.json\"\n",
    "        ])"
   ]
  }
 ],
 "metadata": {
  "kernelspec": {
   "display_name": "Python 3",
   "language": "python",
   "name": "python3"
  },
  "language_info": {
   "codemirror_mode": {
    "name": "ipython",
    "version": 3
   },
   "file_extension": ".py",
   "mimetype": "text/x-python",
   "name": "python",
   "nbconvert_exporter": "python",
   "pygments_lexer": "ipython3",
   "version": "3.10.13"
  }
 },
 "nbformat": 4,
 "nbformat_minor": 2
}
