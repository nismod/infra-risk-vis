{
 "cells": [
  {
   "cell_type": "code",
   "execution_count": null,
   "metadata": {},
   "outputs": [],
   "source": [
    "import subprocess\n",
    "from pathlib import Path\n",
    "\n",
    "import geopandas\n",
    "import numpy\n",
    "import orjson as json\n",
    "import pandas\n",
    "import pyarrow.parquet as pq\n",
    "from tqdm.auto import tqdm"
   ]
  },
  {
   "cell_type": "code",
   "execution_count": null,
   "metadata": {},
   "outputs": [],
   "source": [
    "etl_path = Path('.').absolute().parent.parent\n",
    "raw_dir = etl_path / 'raw_data'\n",
    "opp_dir = etl_path / 'raw_data' / 'nbs-adaptation'\n",
    "cluster_path = Path('/mnt/linux-filestore/mert2014/projects/open-gira/')"
   ]
  },
  {
   "cell_type": "code",
   "execution_count": null,
   "metadata": {},
   "outputs": [],
   "source": [
    "def columns_to_json(df):\n",
    "    records = df.to_dict(orient='records')\n",
    "    return [json.dumps(d).decode() for d in records]"
   ]
  },
  {
   "cell_type": "markdown",
   "metadata": {},
   "source": [
    "# Extract"
   ]
  },
  {
   "cell_type": "code",
   "execution_count": null,
   "metadata": {},
   "outputs": [],
   "source": [
    "def extract_opp(pds_dir):\n",
    "    pds = pq.ParquetDataset(pds_dir)\n",
    "    nonempty = []\n",
    "    schemas = []\n",
    "    for pf_name in pds.files:\n",
    "        pf = pq.ParquetFile(pf_name)\n",
    "        if \"HYBAS_ID\" in pf.schema.names:\n",
    "            nonempty.append(pf_name)\n",
    "\n",
    "        for s in schemas:\n",
    "            if s.equals(pf.schema):\n",
    "                break\n",
    "        else:\n",
    "            schemas.append(pf.schema)\n",
    "    print(schemas)\n",
    "    return nonempty\n",
    "    # pt = pq.read_table(\n",
    "    #     nonempty,\n",
    "    # )\n",
    "    # df = pt.to_pandas()\n",
    "    # df.geometry = geopandas.GeoSeries.from_wkb(df.geometry)\n",
    "    # gdf = geopandas.GeoDataFrame(df).set_crs(epsg=4326)\n",
    "    # return gdf"
   ]
  },
  {
   "cell_type": "code",
   "execution_count": null,
   "metadata": {},
   "outputs": [],
   "source": [
    "read = [\n",
    "    (\"river_basin_afforestation_with_EAD\", [\n",
    "        'hazard-floodMapGL_EAD__rail',\n",
    "        'hazard-floodMapGL_EAD__road',\n",
    "        'hazard-inunriver_historical_MAX_1980_EAD__rail',\n",
    "        'hazard-inunriver_historical_MAX_1980_EAD__road',\n",
    "        'hazard-inunriver_historical_MEAN_1980_EAD__rail',\n",
    "        'hazard-inunriver_historical_MEAN_1980_EAD__road',\n",
    "        'hazard-inunriver_historical_MIN_1980_EAD__rail',\n",
    "        'hazard-inunriver_historical_MIN_1980_EAD__road',\n",
    "        'hazard-inunriver_rcp4p5_MAX_2030_EAD__rail',\n",
    "        'hazard-inunriver_rcp4p5_MAX_2030_EAD__road',\n",
    "        'hazard-inunriver_rcp4p5_MAX_2050_EAD__rail',\n",
    "        'hazard-inunriver_rcp4p5_MAX_2050_EAD__road',\n",
    "        'hazard-inunriver_rcp4p5_MAX_2080_EAD__rail',\n",
    "        'hazard-inunriver_rcp4p5_MAX_2080_EAD__road',\n",
    "        'hazard-inunriver_rcp4p5_MEAN_2030_EAD__rail',\n",
    "        'hazard-inunriver_rcp4p5_MEAN_2030_EAD__road',\n",
    "        'hazard-inunriver_rcp4p5_MEAN_2050_EAD__rail',\n",
    "        'hazard-inunriver_rcp4p5_MEAN_2050_EAD__road',\n",
    "        'hazard-inunriver_rcp4p5_MEAN_2080_EAD__rail',\n",
    "        'hazard-inunriver_rcp4p5_MEAN_2080_EAD__road',\n",
    "        'hazard-inunriver_rcp4p5_MIN_2030_EAD__rail',\n",
    "        'hazard-inunriver_rcp4p5_MIN_2030_EAD__road',\n",
    "        'hazard-inunriver_rcp4p5_MIN_2050_EAD__rail',\n",
    "        'hazard-inunriver_rcp4p5_MIN_2050_EAD__road',\n",
    "        'hazard-inunriver_rcp4p5_MIN_2080_EAD__rail',\n",
    "        'hazard-inunriver_rcp4p5_MIN_2080_EAD__road',\n",
    "        'hazard-inunriver_rcp8p5_MAX_2030_EAD__rail',\n",
    "        'hazard-inunriver_rcp8p5_MAX_2030_EAD__road',\n",
    "        'hazard-inunriver_rcp8p5_MAX_2050_EAD__rail',\n",
    "        'hazard-inunriver_rcp8p5_MAX_2050_EAD__road',\n",
    "        'hazard-inunriver_rcp8p5_MAX_2080_EAD__rail',\n",
    "        'hazard-inunriver_rcp8p5_MAX_2080_EAD__road',\n",
    "        'hazard-inunriver_rcp8p5_MEAN_2030_EAD__rail',\n",
    "        'hazard-inunriver_rcp8p5_MEAN_2030_EAD__road',\n",
    "        'hazard-inunriver_rcp8p5_MEAN_2050_EAD__rail',\n",
    "        'hazard-inunriver_rcp8p5_MEAN_2050_EAD__road',\n",
    "        'hazard-inunriver_rcp8p5_MEAN_2080_EAD__rail',\n",
    "        'hazard-inunriver_rcp8p5_MEAN_2080_EAD__road',\n",
    "        'hazard-inunriver_rcp8p5_MIN_2030_EAD__rail',\n",
    "        'hazard-inunriver_rcp8p5_MIN_2030_EAD__road',\n",
    "        'hazard-inunriver_rcp8p5_MIN_2050_EAD__rail',\n",
    "        'hazard-inunriver_rcp8p5_MIN_2050_EAD__road',\n",
    "        'hazard-inunriver_rcp8p5_MIN_2080_EAD__rail',\n",
    "        'hazard-inunriver_rcp8p5_MIN_2080_EAD__road',\n",
    "    ]),\n",
    "    (\"mangrove_with_EAD\", [\n",
    "        'hazard-GFM_MERITDEM1km_2018_EAD__rail',\n",
    "        'hazard-GFM_MERITDEM1km_2018_EAD__road',\n",
    "        'hazard-GFM_MERITDEM1km_2050_EAD__rail',\n",
    "        'hazard-GFM_MERITDEM1km_2050_EAD__road',\n",
    "        'hazard-GFM_NASADEM1km_2018_EAD__rail',\n",
    "        'hazard-GFM_NASADEM1km_2018_EAD__road',\n",
    "        'hazard-GFM_NASADEM1km_2050_EAD__rail',\n",
    "        'hazard-GFM_NASADEM1km_2050_EAD__road',\n",
    "        'hazard-inuncoast_historical_MAX_hist_0_EAD__rail',\n",
    "        'hazard-inuncoast_historical_MAX_hist_0_EAD__road',\n",
    "        'hazard-inuncoast_historical_MAX_hist_5_EAD__rail',\n",
    "        'hazard-inuncoast_historical_MAX_hist_5_EAD__road',\n",
    "        'hazard-inuncoast_historical_MEAN_hist_0_EAD__rail',\n",
    "        'hazard-inuncoast_historical_MEAN_hist_0_EAD__road',\n",
    "        'hazard-inuncoast_historical_MEAN_hist_5_EAD__rail',\n",
    "        'hazard-inuncoast_historical_MEAN_hist_5_EAD__road',\n",
    "        'hazard-inuncoast_historical_MIN_hist_0_EAD__rail',\n",
    "        'hazard-inuncoast_historical_MIN_hist_0_EAD__road',\n",
    "        'hazard-inuncoast_historical_MIN_hist_5_EAD__rail',\n",
    "        'hazard-inuncoast_historical_MIN_hist_5_EAD__road',\n",
    "        'hazard-inuncoast_rcp4p5_MAX_2030_0_EAD__rail',\n",
    "        'hazard-inuncoast_rcp4p5_MAX_2030_0_EAD__road',\n",
    "        'hazard-inuncoast_rcp4p5_MAX_2030_5_EAD__rail',\n",
    "        'hazard-inuncoast_rcp4p5_MAX_2030_5_EAD__road',\n",
    "        'hazard-inuncoast_rcp4p5_MAX_2050_0_EAD__rail',\n",
    "        'hazard-inuncoast_rcp4p5_MAX_2050_0_EAD__road',\n",
    "        'hazard-inuncoast_rcp4p5_MAX_2050_5_EAD__rail',\n",
    "        'hazard-inuncoast_rcp4p5_MAX_2050_5_EAD__road',\n",
    "        'hazard-inuncoast_rcp4p5_MAX_2080_0_EAD__rail',\n",
    "        'hazard-inuncoast_rcp4p5_MAX_2080_0_EAD__road',\n",
    "        'hazard-inuncoast_rcp4p5_MAX_2080_5_EAD__rail',\n",
    "        'hazard-inuncoast_rcp4p5_MAX_2080_5_EAD__road',\n",
    "        'hazard-inuncoast_rcp4p5_MEAN_2030_0_EAD__rail',\n",
    "        'hazard-inuncoast_rcp4p5_MEAN_2030_0_EAD__road',\n",
    "        'hazard-inuncoast_rcp4p5_MEAN_2030_5_EAD__rail',\n",
    "        'hazard-inuncoast_rcp4p5_MEAN_2030_5_EAD__road',\n",
    "        'hazard-inuncoast_rcp4p5_MEAN_2050_0_EAD__rail',\n",
    "        'hazard-inuncoast_rcp4p5_MEAN_2050_0_EAD__road',\n",
    "        'hazard-inuncoast_rcp4p5_MEAN_2050_5_EAD__rail',\n",
    "        'hazard-inuncoast_rcp4p5_MEAN_2050_5_EAD__road',\n",
    "        'hazard-inuncoast_rcp4p5_MEAN_2080_0_EAD__rail',\n",
    "        'hazard-inuncoast_rcp4p5_MEAN_2080_0_EAD__road',\n",
    "        'hazard-inuncoast_rcp4p5_MEAN_2080_5_EAD__rail',\n",
    "        'hazard-inuncoast_rcp4p5_MEAN_2080_5_EAD__road',\n",
    "        'hazard-inuncoast_rcp4p5_MIN_2030_0_EAD__rail',\n",
    "        'hazard-inuncoast_rcp4p5_MIN_2030_0_EAD__road',\n",
    "        'hazard-inuncoast_rcp4p5_MIN_2030_5_EAD__rail',\n",
    "        'hazard-inuncoast_rcp4p5_MIN_2030_5_EAD__road',\n",
    "        'hazard-inuncoast_rcp4p5_MIN_2050_0_EAD__rail',\n",
    "        'hazard-inuncoast_rcp4p5_MIN_2050_0_EAD__road',\n",
    "        'hazard-inuncoast_rcp4p5_MIN_2050_5_EAD__rail',\n",
    "        'hazard-inuncoast_rcp4p5_MIN_2050_5_EAD__road',\n",
    "        'hazard-inuncoast_rcp4p5_MIN_2080_0_EAD__rail',\n",
    "        'hazard-inuncoast_rcp4p5_MIN_2080_0_EAD__road',\n",
    "        'hazard-inuncoast_rcp4p5_MIN_2080_5_EAD__rail',\n",
    "        'hazard-inuncoast_rcp4p5_MIN_2080_5_EAD__road',\n",
    "        'hazard-inuncoast_rcp8p5_MAX_2030_0_EAD__rail',\n",
    "        'hazard-inuncoast_rcp8p5_MAX_2030_0_EAD__road',\n",
    "        'hazard-inuncoast_rcp8p5_MAX_2030_5_EAD__rail',\n",
    "        'hazard-inuncoast_rcp8p5_MAX_2030_5_EAD__road',\n",
    "        'hazard-inuncoast_rcp8p5_MAX_2050_0_EAD__rail',\n",
    "        'hazard-inuncoast_rcp8p5_MAX_2050_0_EAD__road',\n",
    "        'hazard-inuncoast_rcp8p5_MAX_2050_5_EAD__rail',\n",
    "        'hazard-inuncoast_rcp8p5_MAX_2050_5_EAD__road',\n",
    "        'hazard-inuncoast_rcp8p5_MAX_2080_0_EAD__rail',\n",
    "        'hazard-inuncoast_rcp8p5_MAX_2080_0_EAD__road',\n",
    "        'hazard-inuncoast_rcp8p5_MAX_2080_5_EAD__rail',\n",
    "        'hazard-inuncoast_rcp8p5_MAX_2080_5_EAD__road',\n",
    "        'hazard-inuncoast_rcp8p5_MEAN_2030_0_EAD__rail',\n",
    "        'hazard-inuncoast_rcp8p5_MEAN_2030_0_EAD__road',\n",
    "        'hazard-inuncoast_rcp8p5_MEAN_2030_5_EAD__rail',\n",
    "        'hazard-inuncoast_rcp8p5_MEAN_2030_5_EAD__road',\n",
    "        'hazard-inuncoast_rcp8p5_MEAN_2050_0_EAD__rail',\n",
    "        'hazard-inuncoast_rcp8p5_MEAN_2050_0_EAD__road',\n",
    "        'hazard-inuncoast_rcp8p5_MEAN_2050_5_EAD__rail',\n",
    "        'hazard-inuncoast_rcp8p5_MEAN_2050_5_EAD__road',\n",
    "        'hazard-inuncoast_rcp8p5_MEAN_2080_0_EAD__rail',\n",
    "        'hazard-inuncoast_rcp8p5_MEAN_2080_0_EAD__road',\n",
    "        'hazard-inuncoast_rcp8p5_MEAN_2080_5_EAD__rail',\n",
    "        'hazard-inuncoast_rcp8p5_MEAN_2080_5_EAD__road',\n",
    "        'hazard-inuncoast_rcp8p5_MIN_2030_0_EAD__rail',\n",
    "        'hazard-inuncoast_rcp8p5_MIN_2030_0_EAD__road',\n",
    "        'hazard-inuncoast_rcp8p5_MIN_2030_5_EAD__rail',\n",
    "        'hazard-inuncoast_rcp8p5_MIN_2030_5_EAD__road',\n",
    "        'hazard-inuncoast_rcp8p5_MIN_2050_0_EAD__rail',\n",
    "        'hazard-inuncoast_rcp8p5_MIN_2050_0_EAD__road',\n",
    "        'hazard-inuncoast_rcp8p5_MIN_2050_5_EAD__rail',\n",
    "        'hazard-inuncoast_rcp8p5_MIN_2050_5_EAD__road',\n",
    "        'hazard-inuncoast_rcp8p5_MIN_2080_0_EAD__rail',\n",
    "        'hazard-inuncoast_rcp8p5_MIN_2080_0_EAD__road',\n",
    "        'hazard-inuncoast_rcp8p5_MIN_2080_5_EAD__rail',\n",
    "        'hazard-inuncoast_rcp8p5_MIN_2080_5_EAD__road',\n",
    "    ]),\n",
    "    (\"landslide_slope_vegetation_with_EAD\", [\n",
    "        'hazard-ls_eq_tiled__rail_damage_fraction_EAD__rail',\n",
    "        'hazard-ls_eq_tiled__rail_lower_EAD__rail',\n",
    "        'hazard-ls_eq_tiled__rail_upper_EAD__rail',\n",
    "        'hazard-LS_RF_Median_1980-2018__rail_damage_fraction_EAD__rail',\n",
    "        'hazard-LS_RF_Median_1980-2018__rail_lower_EAD__rail',\n",
    "        'hazard-LS_RF_Median_1980-2018__rail_upper_EAD__rail',\n",
    "        'hazard-LS_TH__rail_damage_fraction_EAD__rail',\n",
    "        'hazard-LS_TH__rail_lower_EAD__rail',\n",
    "        'hazard-LS_TH__rail_upper_EAD__rail',\n",
    "        'hazard-_landslide_sum__rail_damage_fraction_EAD__rail',\n",
    "        'hazard-_landslide_sum__rail_lower_EAD__rail',\n",
    "        'hazard-_landslide_sum__rail_upper_EAD__rail',\n",
    "        'hazard-ls_eq_tiled__road_damage_fraction_EAD__road',\n",
    "        'hazard-ls_eq_tiled__road_lower_EAD__road',\n",
    "        'hazard-ls_eq_tiled__road_upper_EAD__road',\n",
    "        'hazard-LS_RF_Median_1980-2018__road_damage_fraction_EAD__road',\n",
    "        'hazard-LS_RF_Median_1980-2018__road_lower_EAD__road',\n",
    "        'hazard-LS_RF_Median_1980-2018__road_upper_EAD__road',\n",
    "        'hazard-_landslide_sum__road_damage_fraction_EAD__road',\n",
    "        'hazard-_landslide_sum__road_lower_EAD__road',\n",
    "        'hazard-_landslide_sum__road_upper_EAD__road',\n",
    "    ])\n",
    "]\n",
    "for layer, ensure_cols in read:\n",
    "    print(\"Processing\", layer)\n",
    "    files = list((cluster_path / 'results/slices/planet-latest_nbs').glob(f\"slice-*/{layer}.parquet\"))\n",
    "    dfs = []\n",
    "    for pf_name in tqdm(files, desc=layer):\n",
    "        pf = pq.ParquetFile(pf_name)\n",
    "        if \"HYBAS_ID\" in pf.schema.names:\n",
    "            df = geopandas.read_parquet(pf_name)\n",
    "            missing = set(ensure_cols) - set(df.columns)\n",
    "            for col in missing:\n",
    "                df[col] = 0\n",
    "            dfs.append(df)\n",
    "    gdf = pandas.concat(dfs)\n",
    "    gdf.to_parquet(opp_dir / f\"{layer}.geoparquet\")"
   ]
  },
  {
   "cell_type": "markdown",
   "metadata": {},
   "source": [
    "# Mangrove"
   ]
  },
  {
   "cell_type": "markdown",
   "metadata": {},
   "source": [
    "## Collect"
   ]
  },
  {
   "cell_type": "code",
   "execution_count": null,
   "metadata": {},
   "outputs": [],
   "source": [
    "mangrove = geopandas.read_parquet(opp_dir / \"mangrove_with_EAD.geoparquet\")"
   ]
  },
  {
   "cell_type": "code",
   "execution_count": null,
   "metadata": {},
   "outputs": [],
   "source": [
    "list(mangrove.columns)"
   ]
  },
  {
   "cell_type": "code",
   "execution_count": null,
   "metadata": {},
   "outputs": [],
   "source": [
    "mangrove.head(2)"
   ]
  },
  {
   "cell_type": "code",
   "execution_count": null,
   "metadata": {},
   "outputs": [],
   "source": [
    "core = [c for c in mangrove.columns if \"hazard-\" not in c]\n",
    "m_agg_sector = mangrove[core].copy()\n",
    "m_to_sum = {\n",
    "    'hazard-GFM_MERITDEM1km_2018_EAD': ['hazard-GFM_MERITDEM1km_2018_EAD__rail', 'hazard-GFM_MERITDEM1km_2018_EAD__road',],\n",
    "    'hazard-GFM_MERITDEM1km_2050_EAD': ['hazard-GFM_MERITDEM1km_2050_EAD__rail', 'hazard-GFM_MERITDEM1km_2050_EAD__road',],\n",
    "    'hazard-GFM_NASADEM1km_2018_EAD': ['hazard-GFM_NASADEM1km_2018_EAD__rail', 'hazard-GFM_NASADEM1km_2018_EAD__road',],\n",
    "    'hazard-GFM_NASADEM1km_2050_EAD': ['hazard-GFM_NASADEM1km_2050_EAD__rail', 'hazard-GFM_NASADEM1km_2050_EAD__road',],\n",
    "}\n",
    "for agg in (\"MIN\", \"MEAN\", \"MAX\"):\n",
    "    m_to_sum[f'hazard-inuncoast_historical_{agg}_hist_EAD'] = [\n",
    "        f'hazard-inuncoast_historical_{agg}_hist_0_EAD__rail',\n",
    "        f'hazard-inuncoast_historical_{agg}_hist_0_EAD__road',\n",
    "        f'hazard-inuncoast_historical_{agg}_hist_5_EAD__rail',\n",
    "        f'hazard-inuncoast_historical_{agg}_hist_5_EAD__road',\n",
    "    ]\n",
    "for rcp in (\"rcp4p5\", \"rcp8p5\"):\n",
    "    for epoch in (\"2030\", \"2050\", \"2080\"):\n",
    "        for agg in (\"MIN\", \"MEAN\", \"MAX\"):\n",
    "            m_to_sum[f'hazard-inuncoast_{rcp}_{agg}_{epoch}_EAD'] = [\n",
    "                f'hazard-inuncoast_{rcp}_{agg}_{epoch}_0_EAD__rail',\n",
    "                f'hazard-inuncoast_{rcp}_{agg}_{epoch}_0_EAD__road',\n",
    "                f'hazard-inuncoast_{rcp}_{agg}_{epoch}_5_EAD__rail',\n",
    "                f'hazard-inuncoast_{rcp}_{agg}_{epoch}_5_EAD__road',\n",
    "            ]\n",
    "\n",
    "for key, keys in m_to_sum.items():\n",
    "    m_agg_sector[key] = mangrove[keys].sum(axis=1)\n",
    "m_agg_sector.head()"
   ]
  },
  {
   "cell_type": "code",
   "execution_count": null,
   "metadata": {},
   "outputs": [],
   "source": [
    "# [c for c in agg_sector.columns if \"hazard-\" in c]\n",
    "m_to_agg = {\n",
    "    'avoided_ead_hist_2020': [\n",
    "        'hazard-GFM_MERITDEM1km_2018_EAD',\n",
    "        'hazard-GFM_NASADEM1km_2018_EAD',\n",
    "        'hazard-inuncoast_historical_MIN_hist_EAD',\n",
    "        'hazard-inuncoast_historical_MEAN_hist_EAD',\n",
    "        'hazard-inuncoast_historical_MAX_hist_EAD',\n",
    "    ],\n",
    "    'avoided_ead_rcp4p5_2050': [\n",
    "        'hazard-GFM_MERITDEM1km_2050_EAD',\n",
    "        'hazard-GFM_NASADEM1km_2050_EAD',\n",
    "        'hazard-inuncoast_rcp4p5_MIN_2050_EAD',\n",
    "        'hazard-inuncoast_rcp4p5_MEAN_2050_EAD',\n",
    "        'hazard-inuncoast_rcp4p5_MAX_2050_EAD',\n",
    "    ],\n",
    "    'avoided_ead_rcp8p5_2050': [\n",
    "        'hazard-GFM_MERITDEM1km_2050_EAD',\n",
    "        'hazard-GFM_NASADEM1km_2050_EAD',\n",
    "        'hazard-inuncoast_rcp8p5_MIN_2050_EAD',\n",
    "        'hazard-inuncoast_rcp8p5_MEAN_2050_EAD',\n",
    "        'hazard-inuncoast_rcp8p5_MAX_2050_EAD',\n",
    "    ]\n",
    "}\n",
    "m_agg_model = mangrove[core].copy()\n",
    "\n",
    "for key, keys in m_to_agg.items():\n",
    "    for op in (\"min\", \"mean\", \"max\"):\n",
    "        m_agg_model[f\"{key}_{op}\"] = m_agg_sector[keys].agg(op, axis=1)\n",
    "\n",
    "m_agg_model.columns"
   ]
  },
  {
   "cell_type": "code",
   "execution_count": null,
   "metadata": {},
   "outputs": [],
   "source": [
    "mangrove_agg = m_agg_model.dissolve(\n",
    "    by=[\"HYBAS_ID\", \"option_shoreline\"],\n",
    "    aggfunc={\n",
    "       'GID_0': 'first',\n",
    "       'GID_1': 'first',\n",
    "       'GID_2': 'first',\n",
    "       'area_m2': 'sum',\n",
    "       'area_ha': 'sum',\n",
    "       'biodiversity_benefit': 'mean',\n",
    "       'carbon_benefit_t_per_ha': 'mean',\n",
    "       'planting_cost_usd_per_ha': 'mean',\n",
    "       'regen_cost_usd_per_ha': 'mean',\n",
    "       'avoided_ead_hist_2020_min': 'mean',\n",
    "       'avoided_ead_hist_2020_mean': 'mean',\n",
    "       'avoided_ead_hist_2020_max': 'mean',\n",
    "       'avoided_ead_rcp4p5_2050_min': 'mean',\n",
    "       'avoided_ead_rcp4p5_2050_mean': 'mean',\n",
    "       'avoided_ead_rcp4p5_2050_max': 'mean',\n",
    "       'avoided_ead_rcp8p5_2050_min': 'mean',\n",
    "       'avoided_ead_rcp8p5_2050_mean': 'mean',\n",
    "       'avoided_ead_rcp8p5_2050_max': 'mean',\n",
    "    }\n",
    ")"
   ]
  },
  {
   "cell_type": "code",
   "execution_count": null,
   "metadata": {},
   "outputs": [],
   "source": [
    "mangrove_agg.reset_index().to_parquet(opp_dir / \"mangrove_with_EAD_grouped.geoparquet\")"
   ]
  },
  {
   "cell_type": "markdown",
   "metadata": {},
   "source": [
    "## Prepare"
   ]
  },
  {
   "cell_type": "code",
   "execution_count": null,
   "metadata": {},
   "outputs": [],
   "source": [
    "mangrove_agg = geopandas.read_parquet(opp_dir / \"mangrove_with_EAD_grouped.geoparquet\")"
   ]
  },
  {
   "cell_type": "code",
   "execution_count": null,
   "metadata": {},
   "outputs": [],
   "source": [
    "mangrove_agg.head()"
   ]
  },
  {
   "cell_type": "code",
   "execution_count": null,
   "metadata": {},
   "outputs": [],
   "source": [
    "m_damage_cols = [c for c in mangrove_agg.columns if \"avoided_\" in c]\n",
    "m_max_damage = mangrove_agg[m_damage_cols].max(axis=1)"
   ]
  },
  {
   "cell_type": "code",
   "execution_count": null,
   "metadata": {},
   "outputs": [],
   "source": [
    "m_share = mangrove_agg[m_max_damage > 0.99].copy()\n",
    "m_share.to_file(opp_dir / \"mangrove_with_EAD_grouped_gt0.gpkg\", driver=\"GPKG\", engine=\"pyogrio\")\n",
    "m_share.head()"
   ]
  },
  {
   "cell_type": "code",
   "execution_count": null,
   "metadata": {},
   "outputs": [],
   "source": [
    "m_csv = m_share[['geometry']].copy()\n",
    "m_props = columns_to_json(m_share[[\n",
    "    'HYBAS_ID',\n",
    "    'GID_0',\n",
    "    'GID_1',\n",
    "    'GID_2',\n",
    "    'option_shoreline',\n",
    "    'area_m2',\n",
    "    'area_ha',\n",
    "    'biodiversity_benefit',\n",
    "    'carbon_benefit_t_per_ha',\n",
    "    'planting_cost_usd_per_ha',\n",
    "    'regen_cost_usd_per_ha',\n",
    "]])\n",
    "\n",
    "# id,string_id,layer,properties,geom\n",
    "m_csv['properties'] = m_props\n",
    "m_csv['layer'] = 'nbs_cf'\n",
    "m_csv['geom'] = m_csv.geometry.to_wkt()\n",
    "m_csv.drop(columns='geometry')\n",
    "m_csv['id'] = numpy.arange(len(m_csv)) + 71_000_000\n",
    "m_csv['string_id'] = \"nbs_cf_\" + m_share.HYBAS_ID.astype(str)\n",
    "m_csv = m_csv[[\"id\",\"string_id\",\"layer\",\"properties\",\"geom\"]]\n",
    "m_csv"
   ]
  },
  {
   "cell_type": "code",
   "execution_count": null,
   "metadata": {},
   "outputs": [],
   "source": [
    "m_csv.to_csv(opp_dir / \"cf_features.csv\", index=False)"
   ]
  },
  {
   "cell_type": "code",
   "execution_count": null,
   "metadata": {},
   "outputs": [],
   "source": [
    "m_damage_cols"
   ]
  },
  {
   "cell_type": "code",
   "execution_count": null,
   "metadata": {},
   "outputs": [],
   "source": [
    "# feature_id,hazard,properties,rcp,adaptation_name,adaptation_protection_level\n",
    "m_rcp_csvs = []\n",
    "for rcp_epoch  in [\"hist_2020\", \"rcp4p5_2050\", \"rcp8p5_2050\"]:\n",
    "    m_rcp_damage_cols = [\n",
    "        f'avoided_ead_{rcp_epoch}_min',\n",
    "        f'avoided_ead_{rcp_epoch}_mean',\n",
    "        f'avoided_ead_{rcp_epoch}_max',\n",
    "    ]\n",
    "    m_rcp_csv = pandas.concat([\n",
    "        m_csv[['id',]].copy().rename(columns={'id': 'feature_id'}),\n",
    "        m_share[m_rcp_damage_cols].copy()\n",
    "    ], axis=1)\n",
    "\n",
    "    m_rcp_csv['mangrove:native_planting'] = m_share.planting_cost_usd_per_ha.array * m_share.area_ha.array\n",
    "    m_rcp_csv['mangrove:natural_regeneration'] = m_share.regen_cost_usd_per_ha.array * m_share.area_ha.array\n",
    "\n",
    "    m_rcp_csv = m_rcp_csv.melt(\n",
    "        id_vars=['feature_id',] + m_rcp_damage_cols,\n",
    "        var_name='adaptation_name',\n",
    "        value_name='adaptation_cost'\n",
    "    )\n",
    "\n",
    "    m_rcp_csv['hazard'] = 'cf'\n",
    "    m_rcp_csv['properties'] = columns_to_json(m_rcp_csv[['adaptation_cost',]+ m_rcp_damage_cols].rename(columns={\n",
    "        f'avoided_ead_{rcp_epoch}_min': 'avoided_ead_amin',\n",
    "        f'avoided_ead_{rcp_epoch}_mean': 'avoided_ead_mean',\n",
    "        f'avoided_ead_{rcp_epoch}_max': 'avoided_ead_amax',\n",
    "    }))\n",
    "    m_rcp_csv.drop(columns=['adaptation_cost',] + m_rcp_damage_cols, inplace=True)\n",
    "    rcp, epoch = rcp_epoch.split(\"_\")\n",
    "    if rcp == \"hist\":\n",
    "        rcp = \"baseline\"\n",
    "    m_rcp_csv['rcp'] = rcp\n",
    "    m_rcp_csv['adaptation_protection_level'] = 1\n",
    "    m_rcp_csvs.append(m_rcp_csv)\n",
    "\n",
    "m_abc_csv = pandas.concat(m_rcp_csvs)\n",
    "m_abc_csv = m_abc_csv[['feature_id','hazard','rcp','adaptation_name','adaptation_protection_level','properties']].sort_values(by=['feature_id', 'rcp']).reset_index(drop=True)\n",
    "m_abc_csv"
   ]
  },
  {
   "cell_type": "code",
   "execution_count": null,
   "metadata": {},
   "outputs": [],
   "source": [
    "m_abc_csv.to_csv(opp_dir / \"cf_adaptation_cost_benefit.csv\", index=False)"
   ]
  },
  {
   "cell_type": "code",
   "execution_count": null,
   "metadata": {},
   "outputs": [],
   "source": [
    "m_gj = m_share[[\n",
    "    'HYBAS_ID',\n",
    "    'option_shoreline',\n",
    "    'avoided_ead_rcp4p5_2050_mean',\n",
    "    'regen_cost_usd_per_ha',\n",
    "    'geometry'\n",
    "]].copy().rename(columns={'avoided_ead_rcp4p5_2050_mean': 'avoided_ead_mean', 'regen_cost_usd_per_ha': 'adaptation_cost'})\n",
    "m_gj['id'] = m_csv.id\n",
    "m_gj"
   ]
  },
  {
   "cell_type": "code",
   "execution_count": null,
   "metadata": {},
   "outputs": [],
   "source": [
    "m_gj.to_file(opp_dir / \"nbs_cf.json\", driver=\"GeoJSONSeq\", engine=\"pyogrio\")"
   ]
  },
  {
   "cell_type": "code",
   "execution_count": null,
   "metadata": {},
   "outputs": [],
   "source": [
    "m_gjp = m_gj.copy()\n",
    "m_gjp.geometry = m_gj.geometry.centroid\n",
    "m_gjp.to_file(opp_dir / \"nbs_cf_points.json\", driver=\"GeoJSONSeq\", engine=\"pyogrio\")"
   ]
  },
  {
   "cell_type": "code",
   "execution_count": null,
   "metadata": {},
   "outputs": [],
   "source": [
    "for suffix in [\"\", \"_points\"]:\n",
    "    subprocess.run([\n",
    "        \"tippecanoe\",\n",
    "        \"--read-parallel\",\n",
    "        \"--force\",\n",
    "        \"--drop-densest-as-needed\",\n",
    "        \"--use-attribute-for-id=id\",\n",
    "        \"-zg\",\n",
    "        \"-o\",\n",
    "        f\"{etl_path}/../tileserver/vector/data/nbs_cf{suffix}.mbtiles\",\n",
    "        f\"{opp_dir}/nbs_cf{suffix}.json\"\n",
    "    ])"
   ]
  },
  {
   "cell_type": "markdown",
   "metadata": {},
   "source": [
    "# Landslide"
   ]
  },
  {
   "cell_type": "markdown",
   "metadata": {},
   "source": [
    "## Collect"
   ]
  },
  {
   "cell_type": "code",
   "execution_count": null,
   "metadata": {},
   "outputs": [],
   "source": [
    "landslide = geopandas.read_parquet(opp_dir / \"landslide_slope_vegetation_with_EAD.geoparquet\")"
   ]
  },
  {
   "cell_type": "code",
   "execution_count": null,
   "metadata": {},
   "outputs": [],
   "source": [
    "list(landslide.columns)"
   ]
  },
  {
   "cell_type": "code",
   "execution_count": null,
   "metadata": {},
   "outputs": [],
   "source": [
    "l_core = [c for c in landslide.columns if \"hazard-\" not in c]\n",
    "l_agg_model = landslide[l_core].copy()\n",
    "l_to_sum = {\n",
    "    'avoided_ead_hist_2020_min': [\n",
    "        'hazard-_landslide_sum__rail_damage_fraction_EAD__rail',\n",
    "        'hazard-_landslide_sum__road_damage_fraction_EAD__road',\n",
    "    ],\n",
    "    'avoided_ead_hist_2020_mean': [\n",
    "        'hazard-_landslide_sum__rail_lower_EAD__rail',\n",
    "        'hazard-_landslide_sum__road_lower_EAD__road',\n",
    "    ],\n",
    "    'avoided_ead_hist_2020_max': [\n",
    "        'hazard-_landslide_sum__rail_upper_EAD__rail',\n",
    "        'hazard-_landslide_sum__road_upper_EAD__road',\n",
    "    ]\n",
    "}\n",
    "for key, keys in l_to_sum.items():\n",
    "    l_agg_model[key] = landslide[keys].sum(axis=1)\n",
    "\n",
    "l_agg_model.columns"
   ]
  },
  {
   "cell_type": "code",
   "execution_count": null,
   "metadata": {},
   "outputs": [],
   "source": [
    "l_agg = l_agg_model.dissolve(\n",
    "    by=[\"HYBAS_ID\", \"option_landuse\"],\n",
    "    aggfunc={\n",
    "        'GID_0': 'first',\n",
    "        'GID_1': 'first',\n",
    "        'GID_2': 'first',\n",
    "        'area_m2': 'sum',\n",
    "        'area_ha': 'sum',\n",
    "        'biodiversity_benefit': 'mean',\n",
    "        'carbon_benefit_t_per_ha': 'mean',\n",
    "        'planting_cost_usd_per_ha': 'mean',\n",
    "        'regen_cost_usd_per_ha': 'mean',\n",
    "        'avoided_ead_hist_2020_min': 'mean',\n",
    "        'avoided_ead_hist_2020_mean': 'mean',\n",
    "        'avoided_ead_hist_2020_max': 'mean',\n",
    "    }\n",
    ")"
   ]
  },
  {
   "cell_type": "code",
   "execution_count": null,
   "metadata": {},
   "outputs": [],
   "source": [
    "l_agg.reset_index().to_parquet()"
   ]
  },
  {
   "cell_type": "markdown",
   "metadata": {},
   "source": [
    "## Prepare"
   ]
  },
  {
   "cell_type": "code",
   "execution_count": null,
   "metadata": {},
   "outputs": [],
   "source": [
    "l_agg = geopandas.read_parquet(opp_dir / \"landslide_slope_vegetation_with_EAD_grouped.geoparquet\")"
   ]
  },
  {
   "cell_type": "code",
   "execution_count": null,
   "metadata": {},
   "outputs": [],
   "source": [
    "l_share = l_agg.copy()\n",
    "l_share = l_share[l_share.avoided_ead_hist_2020_max > 0.99]\n",
    "l_share.reset_index().to_file(opp_dir / \"landslide_slope_vegetation_with_EAD_grouped_gt0.gpkg\", driver=\"GPKG\", engine=\"pyogrio\")\n",
    "l_share.head()"
   ]
  },
  {
   "cell_type": "code",
   "execution_count": null,
   "metadata": {},
   "outputs": [],
   "source": [
    "l_csv = l_share.reset_index()[['geometry']].copy()\n",
    "l_props = columns_to_json(l_share.reset_index()[[\n",
    "    'HYBAS_ID',\n",
    "    'GID_0',\n",
    "    'GID_1',\n",
    "    'GID_2',\n",
    "    'option_landuse',\n",
    "    'area_m2',\n",
    "    'area_ha',\n",
    "    'biodiversity_benefit',\n",
    "    'carbon_benefit_t_per_ha',\n",
    "    'planting_cost_usd_per_ha',\n",
    "    'regen_cost_usd_per_ha',\n",
    "]])\n",
    "\n",
    "# id,string_id,layer,properties,geom\n",
    "l_csv['properties'] = l_props\n",
    "l_csv['layer'] = 'nbs_ls'\n",
    "l_csv['geom'] = l_csv.geometry.to_wkt()\n",
    "l_csv.drop(columns='geometry')\n",
    "l_csv['id'] = numpy.arange(len(l_csv)) + 70_000_000\n",
    "l_csv['string_id'] = \"nbs_ls_\" + l_share.reset_index().HYBAS_ID.astype(str)\n",
    "l_csv = l_csv[[\"id\",\"string_id\",\"layer\",\"properties\",\"geom\"]]\n",
    "l_csv.head()"
   ]
  },
  {
   "cell_type": "code",
   "execution_count": null,
   "metadata": {},
   "outputs": [],
   "source": [
    "l_csv.to_csv(opp_dir / \"ls_features.csv\", index=False)"
   ]
  },
  {
   "cell_type": "code",
   "execution_count": null,
   "metadata": {},
   "outputs": [],
   "source": [
    "# feature_id,hazard,properties,rcp,adaptation_name,adaptation_protection_level\n",
    "l_abc_csv = l_csv[[\n",
    "    'id',\n",
    "]].copy().rename(columns={'id': 'feature_id'})\n",
    "\n",
    "l_abc_csv['avoided_ead_hist_2020_min'] = l_share.reset_index().avoided_ead_hist_2020_min\n",
    "l_abc_csv['avoided_ead_hist_2020_mean'] = l_share.reset_index().avoided_ead_hist_2020_mean\n",
    "l_abc_csv['avoided_ead_hist_2020_max'] = l_share.reset_index().avoided_ead_hist_2020_max\n",
    "\n",
    "l_abc_csv['slope_vegetation:native_planting'] = l_share.planting_cost_usd_per_ha.array * l_share.area_ha.array\n",
    "l_abc_csv['slope_vegetation:natural_regeneration'] = l_share.regen_cost_usd_per_ha.array * l_share.area_ha.array\n",
    "\n",
    "l_abc_csv = l_abc_csv.melt(\n",
    "    id_vars=[\n",
    "        'feature_id',\n",
    "        'avoided_ead_hist_2020_min',\n",
    "        'avoided_ead_hist_2020_mean',\n",
    "        'avoided_ead_hist_2020_max',\n",
    "    ],\n",
    "    var_name='adaptation_name',\n",
    "    value_name='adaptation_cost'\n",
    ")\n",
    "\n",
    "l_abc_csv['hazard'] = 'ls'\n",
    "l_abc_csv['properties'] = columns_to_json(l_abc_csv[[\n",
    "    'avoided_ead_hist_2020_min',\n",
    "    'avoided_ead_hist_2020_mean',\n",
    "    'avoided_ead_hist_2020_max',\n",
    "    'adaptation_cost',\n",
    "]].rename(columns={\n",
    "    'avoided_ead_hist_2020_min': 'avoided_ead_amin',\n",
    "    'avoided_ead_hist_2020_mean': 'avoided_ead_mean',\n",
    "    'avoided_ead_hist_2020_max': 'avoided_ead_amax',\n",
    "}))\n",
    "l_abc_csv.drop(columns=[\n",
    "    'avoided_ead_hist_2020_min',\n",
    "    'avoided_ead_hist_2020_mean',\n",
    "    'avoided_ead_hist_2020_max',\n",
    "    'adaptation_cost',\n",
    "], inplace=True)\n",
    "l_abc_csv['rcp'] = 'baseline'\n",
    "l_abc_csv['adaptation_protection_level'] = 1\n",
    "l_abc_csv = l_abc_csv[['feature_id','hazard','rcp','adaptation_name','adaptation_protection_level','properties']].sort_values(by='feature_id')\n",
    "l_abc_csv.head()"
   ]
  },
  {
   "cell_type": "code",
   "execution_count": null,
   "metadata": {},
   "outputs": [],
   "source": [
    "l_abc_csv.to_csv(opp_dir / \"ls_adaptation_cost_benefit.csv\", index=False)"
   ]
  },
  {
   "cell_type": "code",
   "execution_count": null,
   "metadata": {},
   "outputs": [],
   "source": [
    "l_gj = l_share.reset_index()[[\n",
    "    'HYBAS_ID',\n",
    "    'option_landuse',\n",
    "    'avoided_ead_hist_2020_mean',\n",
    "    'regen_cost_usd_per_ha',\n",
    "    'geometry'\n",
    "]].copy().rename(columns={'avoided_ead_hist_2020_mean': 'avoided_ead_mean', 'regen_cost_usd_per_ha': 'adaptation_cost'})\n",
    "l_gj['id'] = l_csv.id\n",
    "l_gj.head()"
   ]
  },
  {
   "cell_type": "code",
   "execution_count": null,
   "metadata": {},
   "outputs": [],
   "source": [
    "l_gj.to_file(opp_dir / \"nbs_ls.json\", driver=\"GeoJSONSeq\", engine=\"pyogrio\")"
   ]
  },
  {
   "cell_type": "code",
   "execution_count": null,
   "metadata": {},
   "outputs": [],
   "source": [
    "l_gjp = l_gj.copy()\n",
    "l_gjp.geometry = l_gj.geometry.centroid\n",
    "l_gjp.to_file(opp_dir / \"nbs_ls_points.json\", driver=\"GeoJSONSeq\", engine=\"pyogrio\")"
   ]
  },
  {
   "cell_type": "code",
   "execution_count": null,
   "metadata": {},
   "outputs": [],
   "source": [
    "for suffix in [\"\", \"_points\"]:\n",
    "    subprocess.run([\n",
    "        \"tippecanoe\",\n",
    "        \"--read-parallel\",\n",
    "        \"--force\",\n",
    "        \"--drop-densest-as-needed\",\n",
    "        \"--use-attribute-for-id=id\",\n",
    "        \"-zg\",\n",
    "        \"-o\",\n",
    "        f\"{etl_path}/../tileserver/vector/data/nbs_ls{suffix}.mbtiles\",\n",
    "        f\"{opp_dir}/nbs_ls{suffix}.json\"\n",
    "    ])"
   ]
  },
  {
   "cell_type": "markdown",
   "metadata": {},
   "source": [
    "# River"
   ]
  },
  {
   "cell_type": "markdown",
   "metadata": {},
   "source": [
    "## Prepare"
   ]
  },
  {
   "cell_type": "code",
   "execution_count": null,
   "metadata": {},
   "outputs": [],
   "source": [
    "river = geopandas.read_parquet(opp_dir / \"river_basin_afforestation_with_EAD.geoparquet\")"
   ]
  },
  {
   "cell_type": "code",
   "execution_count": null,
   "metadata": {},
   "outputs": [],
   "source": [
    "river.columns"
   ]
  },
  {
   "cell_type": "code",
   "execution_count": null,
   "metadata": {},
   "outputs": [],
   "source": [
    "r_core = [c for c in river.columns if \"hazard-\" not in c]\n",
    "r_agg_sector = river[core].copy()\n",
    "r_to_sum = {\n",
    "    'hazard-floodMapGL_EAD': ['hazard-floodMapGL_EAD__road', 'hazard-floodMapGL_EAD__rail',],\n",
    "}\n",
    "for agg in (\"MIN\", \"MEAN\", \"MAX\"):\n",
    "    r_to_sum[f'hazard-inunriver_historical_{agg}_hist_EAD'] = [\n",
    "        f'hazard-inunriver_historical_{agg}_hist_EAD__road',\n",
    "        f'hazard-inunriver_historical_{agg}_hist_EAD__rail',\n",
    "    ]\n",
    "for rcp in (\"rcp4p5\", \"rcp8p5\"):\n",
    "    for epoch in (\"2030\", \"2050\", \"2080\"):\n",
    "        for agg in (\"MIN\", \"MEAN\", \"MAX\"):\n",
    "            r_to_sum[f'hazard-inunriver_{rcp}_{agg}_{epoch}_EAD'] = [\n",
    "                f'hazard-inunriver_{rcp}_{agg}_{epoch}_EAD__rail',\n",
    "                f'hazard-inunriver_{rcp}_{agg}_{epoch}_EAD__road',\n",
    "            ]\n",
    "\n",
    "for key, keys in r_to_sum.items():\n",
    "    r_agg_sector[key] = mangrove[keys].sum(axis=1)\n",
    "r_agg_sector.head()"
   ]
  },
  {
   "cell_type": "code",
   "execution_count": null,
   "metadata": {},
   "outputs": [],
   "source": [
    "r_to_agg = {\n",
    "    'avoided_ead_hist_2020': [\n",
    "       'hazard-inunriver_historical_MAX_1980_EAD',\n",
    "       'hazard-inunriver_historical_MEAN_1980_EAD',\n",
    "       'hazard-inunriver_historical_MIN_1980_EAD',\n",
    "       'hazard-floodMapGL_EAD',\n",
    "    ],\n",
    "    'avoided_ead_rcp4p5_2050': [\n",
    "        'hazard-inunriver_rcp4p5_MIN_2050_EAD',\n",
    "        'hazard-inunriver_rcp4p5_MEAN_2050_EAD',\n",
    "        'hazard-inunriver_rcp4p5_MAX_2050_EAD',\n",
    "    ],\n",
    "    'avoided_ead_rcp8p5_2050': [\n",
    "        'hazard-inunriver_rcp8p5_MIN_2050_EAD',\n",
    "        'hazard-inunriver_rcp8p5_MEAN_2050_EAD',\n",
    "        'hazard-inunriver_rcp8p5_MAX_2050_EAD',\n",
    "    ]\n",
    "}\n",
    "r_agg_model = river[r_core].copy()\n",
    "\n",
    "for key, keys in r_to_agg.items():\n",
    "    for op in (\"min\", \"mean\", \"max\"):\n",
    "        r_agg_model[f\"{key}_{op}\"] = r_agg_sector[keys].agg(op, axis=1)\n",
    "\n",
    "r_agg_model.columns"
   ]
  },
  {
   "cell_type": "code",
   "execution_count": null,
   "metadata": {},
   "outputs": [],
   "source": [
    "r_agg_model.shape"
   ]
  },
  {
   "cell_type": "code",
   "execution_count": null,
   "metadata": {},
   "outputs": [],
   "source": [
    "r_agg_model.to_parquet(opp_dir / \"river_basin_afforestation_with_EAD_grouped.geoparquet\")"
   ]
  },
  {
   "cell_type": "markdown",
   "metadata": {},
   "source": [
    "## Extract"
   ]
  },
  {
   "cell_type": "code",
   "execution_count": null,
   "metadata": {},
   "outputs": [],
   "source": [
    "r_agg_model = geopandas.read_parquet(opp_dir / \"river_basin_afforestation_with_EAD_grouped.geoparquet\")"
   ]
  },
  {
   "cell_type": "code",
   "execution_count": null,
   "metadata": {},
   "outputs": [],
   "source": [
    "r_agg_model.head(1)"
   ]
  },
  {
   "cell_type": "code",
   "execution_count": null,
   "metadata": {},
   "outputs": [],
   "source": [
    "r_damage_cols = [c for c in r_agg_model.columns if \"avoided_\" in c]\n",
    "r_max_damage = r_agg_model[r_damage_cols].max(axis=1)"
   ]
  },
  {
   "cell_type": "code",
   "execution_count": null,
   "metadata": {},
   "outputs": [],
   "source": [
    "r_share = r_agg_model[r_max_damage > 0.99].copy().reset_index()\n",
    "r_share.to_file(opp_dir / \"river_basin_afforestation_with_EAD_grouped_gt0.gpkg\", driver=\"GPKG\", engine=\"pyogrio\")\n",
    "r_share"
   ]
  },
  {
   "cell_type": "code",
   "execution_count": null,
   "metadata": {},
   "outputs": [],
   "source": [
    "r_csv = r_share[['geometry']].copy()\n",
    "r_share['tree_suitability'] = 1\n",
    "r_props = columns_to_json(r_share[[\n",
    "    'HYBAS_ID',\n",
    "    'GID_0',\n",
    "    'GID_1',\n",
    "    'GID_2',\n",
    "    'tree_suitability',\n",
    "    'area_m2',\n",
    "    'area_ha',\n",
    "    'biodiversity_benefit',\n",
    "    'carbon_benefit_t_per_ha',\n",
    "    'planting_cost_usd_per_ha',\n",
    "    'regen_cost_usd_per_ha',\n",
    "]])\n",
    "\n",
    "# id,string_id,layer,properties,geom\n",
    "r_csv['properties'] = r_props\n",
    "r_csv['layer'] = 'nbs_rf'\n",
    "r_csv['geom'] = r_csv.geometry.to_wkt()\n",
    "r_csv.drop(columns='geometry')\n",
    "r_csv['id'] = numpy.arange(len(r_csv)) + 72_000_000\n",
    "r_csv['string_id'] = \"nbs_rf_\" + r_share.HYBAS_ID.astype(str)\n",
    "r_csv = r_csv[[\"id\",\"string_id\",\"layer\",\"properties\",\"geom\"]]\n",
    "r_csv"
   ]
  },
  {
   "cell_type": "code",
   "execution_count": null,
   "metadata": {},
   "outputs": [],
   "source": [
    "r_csv.to_csv(opp_dir / \"rf_features.csv\", index=False)"
   ]
  },
  {
   "cell_type": "code",
   "execution_count": null,
   "metadata": {},
   "outputs": [],
   "source": [
    "# feature_id,hazard,properties,rcp,adaptation_name,adaptation_protection_level\n",
    "r_rcp_csvs = []\n",
    "for rcp_epoch  in [\"hist_2020\", \"rcp4p5_2050\", \"rcp8p5_2050\"]:\n",
    "    r_rcp_damage_cols = [\n",
    "        f'avoided_ead_{rcp_epoch}_min',\n",
    "        f'avoided_ead_{rcp_epoch}_mean',\n",
    "        f'avoided_ead_{rcp_epoch}_max',\n",
    "    ]\n",
    "    r_rcp_csv = pandas.concat([\n",
    "        r_csv[['id',]].copy().rename(columns={'id': 'feature_id'}),\n",
    "        r_share[r_rcp_damage_cols].copy()\n",
    "    ], axis=1)\n",
    "\n",
    "    r_rcp_csv['catchment_restoration:native_planting'] = r_share.planting_cost_usd_per_ha.array * r_share.area_ha.array\n",
    "    r_rcp_csv['catchment_restoration:natural_regeneration'] = r_share.regen_cost_usd_per_ha.array * r_share.area_ha.array\n",
    "\n",
    "    r_rcp_csv = r_rcp_csv.melt(\n",
    "        id_vars=['feature_id',] + r_rcp_damage_cols,\n",
    "        var_name='adaptation_name',\n",
    "        value_name='adaptation_cost'\n",
    "    )\n",
    "\n",
    "    r_rcp_csv['hazard'] = 'rf'\n",
    "    r_rcp_csv['properties'] = columns_to_json(r_rcp_csv[['adaptation_cost',]+ r_rcp_damage_cols].rename(columns={\n",
    "        f'avoided_ead_{rcp_epoch}_min': 'avoided_ead_amin',\n",
    "        f'avoided_ead_{rcp_epoch}_mean': 'avoided_ead_mean',\n",
    "        f'avoided_ead_{rcp_epoch}_max': 'avoided_ead_amax',\n",
    "    }))\n",
    "    r_rcp_csv.drop(columns=['adaptation_cost',] + r_rcp_damage_cols, inplace=True)\n",
    "    rcp, epoch = rcp_epoch.split(\"_\")\n",
    "    if rcp == \"hist\":\n",
    "        rcp = \"baseline\"\n",
    "    r_rcp_csv['rcp'] = rcp\n",
    "    r_rcp_csv['adaptation_protection_level'] = 1\n",
    "    r_rcp_csvs.append(r_rcp_csv)\n",
    "\n",
    "r_abc_csv = pandas.concat(r_rcp_csvs)\n",
    "r_abc_csv = r_abc_csv[['feature_id','hazard','rcp','adaptation_name','adaptation_protection_level','properties']].sort_values(by=['feature_id', 'rcp']).reset_index(drop=True)\n",
    "r_abc_csv"
   ]
  },
  {
   "cell_type": "code",
   "execution_count": null,
   "metadata": {},
   "outputs": [],
   "source": [
    "r_abc_csv.to_csv(opp_dir / \"rf_adaptation_cost_benefit.csv\", index=False)"
   ]
  },
  {
   "cell_type": "code",
   "execution_count": null,
   "metadata": {},
   "outputs": [],
   "source": [
    "r_gj = r_share[[\n",
    "    'HYBAS_ID',\n",
    "    'tree_suitability',\n",
    "    'avoided_ead_rcp4p5_2050_mean',\n",
    "    'regen_cost_usd_per_ha',\n",
    "    'geometry'\n",
    "]].copy().rename(columns={'avoided_ead_rcp4p5_2050_mean': 'avoided_ead_mean', 'regen_cost_usd_per_ha': 'adaptation_cost'})\n",
    "r_gj['id'] = r_csv.id\n",
    "r_gj"
   ]
  },
  {
   "cell_type": "code",
   "execution_count": null,
   "metadata": {},
   "outputs": [],
   "source": [
    "r_gj.to_file(opp_dir / \"nbs_rf.json\", driver=\"GeoJSONSeq\", engine=\"pyogrio\")"
   ]
  },
  {
   "cell_type": "code",
   "execution_count": null,
   "metadata": {},
   "outputs": [],
   "source": [
    "r_gjp = r_gj.copy()\n",
    "r_gjp.geometry = r_gj.geometry.centroid\n",
    "r_gjp.to_file(opp_dir / \"nbs_rf_points.json\", driver=\"GeoJSONSeq\", engine=\"pyogrio\")"
   ]
  },
  {
   "cell_type": "code",
   "execution_count": null,
   "metadata": {},
   "outputs": [],
   "source": [
    "for suffix in [\"\", \"_points\"]:\n",
    "    subprocess.run([\n",
    "        \"tippecanoe\",\n",
    "        \"--read-parallel\",\n",
    "        \"--force\",\n",
    "        \"--drop-densest-as-needed\",\n",
    "        \"--use-attribute-for-id=id\",\n",
    "        \"-zg\",\n",
    "        \"-o\",\n",
    "        f\"{etl_path}/../tileserver/vector/data/nbs_rf{suffix}.mbtiles\",\n",
    "        f\"{opp_dir}/nbs_rf{suffix}.json\"\n",
    "    ])"
   ]
  }
 ],
 "metadata": {
  "kernelspec": {
   "display_name": "Python 3",
   "language": "python",
   "name": "python3"
  },
  "language_info": {
   "codemirror_mode": {
    "name": "ipython",
    "version": 3
   },
   "file_extension": ".py",
   "mimetype": "text/x-python",
   "name": "python",
   "nbconvert_exporter": "python",
   "pygments_lexer": "ipython3",
   "version": "3.10.13"
  }
 },
 "nbformat": 4,
 "nbformat_minor": 2
}
